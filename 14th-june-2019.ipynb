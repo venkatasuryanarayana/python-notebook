{
 "cells": [
  {
   "cell_type": "markdown",
   "metadata": {},
   "source": [
    "* Python Data Structures \n",
    "* Lists \n",
    "* Tuples \n",
    "* Dictionaries \n",
    "* Basic Problem set on Data Structures \n",
    "* Advanced Problem Set \n",
    "* Packages and Modules in Python "
   ]
  },
  {
   "cell_type": "markdown",
   "metadata": {},
   "source": [
    "# Python Data Structures\n",
    "\n",
    "## Lists"
   ]
  },
  {
   "cell_type": "code",
   "execution_count": 31,
   "metadata": {},
   "outputs": [
    {
     "data": {
      "text/plain": [
       "456.0"
      ]
     },
     "execution_count": 31,
     "metadata": {},
     "output_type": "execute_result"
    }
   ],
   "source": [
    "li = [123, 456, 789]\n",
    "\n",
    "li # Access the entire list\n",
    "li[1] # indexing start from 0 here Access an element with index\n",
    "li[1:] # Access all element second element to last element\n",
    "li = li[::-1] # reversing list elemnts and re-assigning to the original list\n",
    "li\n",
    "li = li[::-1]\n",
    "li[::2] # Accessing even index elements\n",
    "li[1::2] \n",
    "\n",
    "#list can be accessed, manipulated in two different ways\n",
    "    #Direct Referencing - [index]\n",
    "    #Indirect Referencing - through functions\n",
    "\n",
    "li.append(345) # Adding an element to end of the list\n",
    " \n",
    "li\n",
    "\n",
    "li.insert(1, 234) # Adding an element at aparticular index\n",
    "\n",
    "li\n",
    "\n",
    "li.sort() #Sort the elements in ascending order\n",
    "li\n",
    "\n",
    "# Remove the last element  in a list\n",
    "li.pop() \n",
    "\n",
    "# Remove an element on particular index\n",
    "li.pop(1)\n",
    "\n",
    "li2 = [234, 456, 789]\n",
    "\n",
    "li.extend(li2) #merge list2 into list1\n",
    "li\n",
    "sum(li) # Sum of all elements in a list\n",
    "max(li) # Maximum element in a list\n",
    "len(li) # Number of elememnts in a list\n",
    "\n",
    "\n",
    "sum(li)/len(li) # Average of list elements\n",
    "\n",
    "#Average of all alternate elements\n",
    "sum(li[1::2])/len(li[1::2])\n",
    "\n",
    "\n"
   ]
  },
  {
   "cell_type": "code",
   "execution_count": 43,
   "metadata": {},
   "outputs": [
    {
     "data": {
      "text/plain": [
       "4"
      ]
     },
     "execution_count": 43,
     "metadata": {},
     "output_type": "execute_result"
    }
   ],
   "source": [
    "# Function to find the second largest element in a list\n",
    "\n",
    " #Sort the data and select second last element\n",
    " #Sort the data in reverse order, and select the second element \n",
    "#Remove the max element and then get the max of the new \n",
    "def secondlar(li):\n",
    "    li.sort()\n",
    "    return li[-2]\n",
    "secondlar([4,2,3,15])"
   ]
  },
  {
   "cell_type": "code",
   "execution_count": 57,
   "metadata": {},
   "outputs": [
    {
     "data": {
      "text/plain": [
       "4"
      ]
     },
     "execution_count": 57,
     "metadata": {},
     "output_type": "execute_result"
    }
   ],
   "source": [
    "def nthlar(li,n):\n",
    "    l=len(li)\n",
    "    li.sort()\n",
    "    return li[-n-1]\n",
    "nthlar([4,2,3,15,1],1) #doubt"
   ]
  },
  {
   "cell_type": "code",
   "execution_count": 66,
   "metadata": {},
   "outputs": [
    {
     "data": {
      "text/plain": [
       "5"
      ]
     },
     "execution_count": 66,
     "metadata": {},
     "output_type": "execute_result"
    }
   ],
   "source": [
    "# function to search for data in a list\n",
    "# general way\n",
    "def linearSearch(li, key):\n",
    "    for index in range(0, len(li)):\n",
    "        if li[index] == key:\n",
    "            return index + 1\n",
    "        \n",
    "    return -1\n",
    "linearSearch3(li, 789)\n",
    "# one method\n",
    "def linearSearch2(li,key):\n",
    "    for element in li:\n",
    "        if element == key:\n",
    "            return li.index(element)\n",
    "    return -1\n",
    "\n",
    "linearSearch3(li, 789)\n",
    "\n",
    "#second method\n",
    "def linearSearch3(li, key):\n",
    "    if key in li: # here for loop is going on inside\n",
    "        return li.index(key)\n",
    "    return -1\n",
    "    \n",
    "\n",
    "linearSearch3(li, 789)\n",
    "\n",
    "\n",
    "\n"
   ]
  },
  {
   "cell_type": "code",
   "execution_count": 60,
   "metadata": {},
   "outputs": [
    {
     "data": {
      "text/plain": [
       "[123, 345, 456, 234, 456, 789]"
      ]
     },
     "execution_count": 60,
     "metadata": {},
     "output_type": "execute_result"
    }
   ],
   "source": [
    "li"
   ]
  },
  {
   "cell_type": "code",
   "execution_count": 70,
   "metadata": {},
   "outputs": [
    {
     "data": {
      "text/plain": [
       "1"
      ]
     },
     "execution_count": 70,
     "metadata": {},
     "output_type": "execute_result"
    }
   ],
   "source": [
    "# Function to count the occurence of a character in a string\n",
    "# \"Python Programming\", m -> 2\n",
    "\n",
    "def countCharOccurances(s, subs):\n",
    "    count = 0\n",
    "    for ch in s:\n",
    "        if ch == c:\n",
    "            count += 1\n",
    "    return count\n",
    "\n",
    "def countCharOccurances2(s, c):\n",
    "    return s.count(c)\n",
    "\n",
    "countCharOccurances2(\"Python Programming\", \"Py\")\n",
    "\n",
    "# countCharOccurances(\"python\")\n",
    "\n",
    "# function to find the number of occurances of a sub string\n",
    "# \"abcabcddcba\", \"ab\" --> 2\n",
    "\n",
    "def occurancesOfString():\n",
    "    \n"
   ]
  },
  {
   "cell_type": "code",
   "execution_count": null,
   "metadata": {},
   "outputs": [],
   "source": []
  }
 ],
 "metadata": {
  "kernelspec": {
   "display_name": "Python 3",
   "language": "python",
   "name": "python3"
  },
  "language_info": {
   "codemirror_mode": {
    "name": "ipython",
    "version": 3
   },
   "file_extension": ".py",
   "mimetype": "text/x-python",
   "name": "python",
   "nbconvert_exporter": "python",
   "pygments_lexer": "ipython3",
   "version": "3.7.3"
  }
 },
 "nbformat": 4,
 "nbformat_minor": 2
}

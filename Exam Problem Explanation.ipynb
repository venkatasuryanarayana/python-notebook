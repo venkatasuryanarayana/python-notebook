{
 "cells": [
  {
   "cell_type": "markdown",
   "metadata": {},
   "source": [
    "\n",
    "**Explanation**\n",
    "\n",
    "- li = [3,2,-1,-2,-3] ()\n",
    "- Sort the order\n",
    "- li = [-3,-2,-1,2,3] (Sorted Order list)\n",
    "- pl = [1,2,3,]\n",
    "\n"
   ]
  },
  {
   "cell_type": "code",
   "execution_count": null,
   "metadata": {},
   "outputs": [],
   "source": [
    "# 10 Marks\n",
    "# Problem - 2"
   ]
  },
  {
   "cell_type": "code",
   "execution_count": 3,
   "metadata": {},
   "outputs": [
    {
     "name": "stdout",
     "output_type": "stream",
     "text": [
      "1\n"
     ]
    }
   ],
   "source": [
    "li= [-1,-2,2,3,1]\n",
    "\n",
    "li.sort()\n",
    "pl=[]\n",
    "for i in li:\n",
    "    pl.append(abs(i))\n",
    "pl.sort()\n",
    "if pl[0] in li:\n",
    "    print(pl[0])\n",
    "else:\n",
    "    print(-pl[0])\n",
    "#pl"
   ]
  },
  {
   "cell_type": "markdown",
   "metadata": {},
   "source": [
    "### Problem - 3\n",
    "You are given three numbers,a,b, and c.\n",
    "Write a program to find the largest number\n",
    "which is lessthen or equal to c and leaves\n",
    "remainder b when divided by a.\n",
    "\n",
    "\n",
    "3 2 9\n",
    "a b c\n",
    "\n",
    "9 % 3 == 0\n",
    "8 % 3 == 2\n",
    "\n",
    "\n",
    "1 2 4\n",
    "4 % 1 == 0\n",
    "3 % 1 == 0\n",
    "2 % 1 == 0\n",
    "1 % 1 == 0\n",
    "0 % 1 == 0\n",
    "-1 % 1 == 0\n",
    "\n",
    "\n"
   ]
  },
  {
   "cell_type": "code",
   "execution_count": 33,
   "metadata": {},
   "outputs": [
    {
     "data": {
      "text/plain": [
       "-1"
      ]
     },
     "execution_count": 33,
     "metadata": {},
     "output_type": "execute_result"
    }
   ],
   "source": [
    "def threenumbers(a,b,c):\n",
    "    for i in range(c,a-1,-1):\n",
    "        if i % a==b:\n",
    "            return i\n",
    "    return -1\n",
    "threenumbers(1,2,4)"
   ]
  },
  {
   "cell_type": "code",
   "execution_count": 30,
   "metadata": {},
   "outputs": [
    {
     "name": "stdout",
     "output_type": "stream",
     "text": [
      "-134\n"
     ]
    }
   ],
   "source": [
    "li= [-1,-2,2,3,1,100,133,-134,-123]\n",
    "\n",
    "li.sort()\n",
    "pl=[]\n",
    "for i in li:\n",
    "    pl.append(abs(i))\n",
    "    #print(pl)\n",
    "pl.sort()\n",
    "if pl[1] == 0:\n",
    "    print(pl[-1])\n",
    "else:\n",
    "    print(li[0])"
   ]
  },
  {
   "cell_type": "code",
   "execution_count": null,
   "metadata": {},
   "outputs": [],
   "source": []
  },
  {
   "cell_type": "code",
   "execution_count": 35,
   "metadata": {},
   "outputs": [
    {
     "name": "stdout",
     "output_type": "stream",
     "text": [
      "1\n"
     ]
    },
    {
     "ename": "IndexError",
     "evalue": "list index out of range",
     "output_type": "error",
     "traceback": [
      "\u001b[1;31m---------------------------------------------------------------------------\u001b[0m",
      "\u001b[1;31mIndexError\u001b[0m                                Traceback (most recent call last)",
      "\u001b[1;32m<ipython-input-35-7fe103927030>\u001b[0m in \u001b[0;36m<module>\u001b[1;34m\u001b[0m\n\u001b[0;32m     11\u001b[0m \u001b[0ms\u001b[0m\u001b[1;33m=\u001b[0m\u001b[0ms\u001b[0m\u001b[1;33m.\u001b[0m\u001b[0msplit\u001b[0m\u001b[1;33m(\u001b[0m\u001b[1;33m)\u001b[0m\u001b[1;33m\u001b[0m\u001b[1;33m\u001b[0m\u001b[0m\n\u001b[0;32m     12\u001b[0m \u001b[0mi\u001b[0m\u001b[1;33m=\u001b[0m\u001b[0mint\u001b[0m\u001b[1;33m(\u001b[0m\u001b[0ms\u001b[0m\u001b[1;33m[\u001b[0m\u001b[1;36m0\u001b[0m\u001b[1;33m]\u001b[0m\u001b[1;33m)\u001b[0m\u001b[1;33m\u001b[0m\u001b[1;33m\u001b[0m\u001b[0m\n\u001b[1;32m---> 13\u001b[1;33m \u001b[0mj\u001b[0m\u001b[1;33m=\u001b[0m\u001b[0mint\u001b[0m\u001b[1;33m(\u001b[0m\u001b[0ms\u001b[0m\u001b[1;33m[\u001b[0m\u001b[1;36m1\u001b[0m\u001b[1;33m]\u001b[0m\u001b[1;33m)\u001b[0m\u001b[1;33m\u001b[0m\u001b[1;33m\u001b[0m\u001b[0m\n\u001b[0m\u001b[0;32m     14\u001b[0m \u001b[0mk\u001b[0m\u001b[1;33m=\u001b[0m\u001b[0mint\u001b[0m\u001b[1;33m(\u001b[0m\u001b[0ms\u001b[0m\u001b[1;33m[\u001b[0m\u001b[1;36m2\u001b[0m\u001b[1;33m]\u001b[0m\u001b[1;33m)\u001b[0m\u001b[1;33m\u001b[0m\u001b[1;33m\u001b[0m\u001b[0m\n\u001b[0;32m     15\u001b[0m \u001b[1;33m\u001b[0m\u001b[0m\n",
      "\u001b[1;31mIndexError\u001b[0m: list index out of range"
     ]
    }
   ],
   "source": [
    "def divide(i,j,k):\n",
    "    count = 0\n",
    "    for num in range(i,j+1):\n",
    "        if num % k == 0:\n",
    "            count+=1\n",
    "    print(count)\n",
    "    return\n",
    "    \n",
    "\n",
    "s= input()\n",
    "s=s.split()\n",
    "i=int(s[0])\n",
    "j=int(s[1])\n",
    "k=int(s[2])\n",
    "\n",
    "divide(i,j,k)"
   ]
  },
  {
   "cell_type": "code",
   "execution_count": 34,
   "metadata": {},
   "outputs": [
    {
     "name": "stdout",
     "output_type": "stream",
     "text": [
      "2\n",
      "2\n"
     ]
    }
   ],
   "source": [
    "# Factorial\n",
    "\n",
    "def Fact(N):\n",
    "    \n",
    "    fact=1\n",
    "    for i in range(1,N+1):\n",
    "        fact=fact*i\n",
    "    print(fact)\n",
    "    \n",
    "N=int(input())\n",
    "\n",
    "Fact(N)"
   ]
  },
  {
   "cell_type": "code",
   "execution_count": null,
   "metadata": {},
   "outputs": [],
   "source": [
    "'''\n",
    "def st():\n",
    "    x=[\"A\",\"B\"]\n",
    "    y=[\"a\",\"b\"]\n",
    "    mn=\"aAbBB\"\n",
    "    q=\"\"\n",
    "    for i in mn:\n",
    "        if i in x:\n",
    "            \n",
    "'''\n",
    "\n",
    "\n",
    "        \n",
    "    \n",
    "    \n"
   ]
  },
  {
   "cell_type": "code",
   "execution_count": 36,
   "metadata": {},
   "outputs": [
    {
     "name": "stdout",
     "output_type": "stream",
     "text": [
      "rar\n",
      "YES\n"
     ]
    }
   ],
   "source": [
    "# Palindrome\n",
    "\n",
    "def Palindromic(a):\n",
    "    abc = a[::-1]\n",
    "    \n",
    "    if abc == a:\n",
    "        print(\"YES\")\n",
    "    else:\n",
    "        print(\"NO\")\n",
    "\n",
    "\n",
    "a=input()\n",
    "\n",
    "Palindromic(a)"
   ]
  },
  {
   "cell_type": "code",
   "execution_count": 11,
   "metadata": {},
   "outputs": [
    {
     "data": {
      "text/plain": [
       "96"
      ]
     },
     "execution_count": 11,
     "metadata": {},
     "output_type": "execute_result"
    }
   ],
   "source": [
    "ord(\"a\")-1"
   ]
  },
  {
   "cell_type": "code",
   "execution_count": 46,
   "metadata": {},
   "outputs": [
    {
     "name": "stdout",
     "output_type": "stream",
     "text": [
      "2\n",
      "No\n",
      "1\n"
     ]
    }
   ],
   "source": [
    "def primenumbers(N):\n",
    "    count = 0\n",
    "    list=[]\n",
    "    for number in range(1,N+1):\n",
    "        \n",
    "        if (N % number) == 0:\n",
    "            count = count + 1\n",
    "    if (count == 2):\n",
    "        print(\"Prime\")\n",
    "    else:\n",
    "        print(\"No\")\n",
    "    #print(count)\n",
    "                   \n",
    "            \n",
    "    \n",
    "N=int(input())\n",
    "\n",
    "primenumbers(N)"
   ]
  },
  {
   "cell_type": "code",
   "execution_count": 75,
   "metadata": {},
   "outputs": [
    {
     "name": "stdout",
     "output_type": "stream",
     "text": [
      "15\n",
      "2 3 5 7 11 13 "
     ]
    }
   ],
   "source": [
    "def primenumbers(N):\n",
    "    list=[]\n",
    "    a=0\n",
    "    for number in range(1,N+1):\n",
    "        if (number == 2 or number == 3):\n",
    "            list.append(number)\n",
    "        elif (N%number==0 or N%1==0) and (number%2!=0 and number%3!=0 and number != 1) :\n",
    "            list.append(number)\n",
    "    for i in list:\n",
    "        print(i, end = \" \")        \n",
    "N=int(input())\n",
    "\n",
    "primenumbers(N)"
   ]
  },
  {
   "cell_type": "code",
   "execution_count": 4,
   "metadata": {},
   "outputs": [
    {
     "name": "stdout",
     "output_type": "stream",
     "text": [
      "9\n",
      "2 3 5 7 "
     ]
    }
   ],
   "source": [
    "'''\n",
    "# Sample code to perform I/O:\n",
    "\n",
    "name = input()                  # Reading input from STDIN\n",
    "print('Hi, %s.' % name)         # Writing output to STDOUT\n",
    "\n",
    "# Warning: Printing unwanted or ill-formatted data to output will cause the test cases to fail\n",
    "'''\n",
    "\n",
    "# Write your code here\n",
    "#prime numbers in a given range\n",
    "'''def prime(n):\n",
    "    for i in range(2,n//2+1):\n",
    "        if(n%i)==0:\n",
    "           return False\n",
    "    return True\n",
    "    \n",
    "def primes(n):\n",
    "    for i in range(2,n+1):\n",
    "        if prime(i):\n",
    "            print(i,end=\" \")\n",
    "n=int(input())\n",
    "primes(n)\n",
    "'''\n",
    "def primenumbers(lb,ub):\n",
    "   for num in range(lb,ub + 1):\n",
    "       if num > 1:\n",
    "           for i in range(2, num):\n",
    "               if (num % i) == 0:\n",
    "                   break\n",
    "           else:\n",
    "               print(num, end = ' ')\n",
    "n=int(input())\n",
    "               \n",
    "primenumbers(1,n)\n",
    "            \n",
    "            \n",
    "            \n",
    "            \n",
    "    \n",
    "    \n",
    "#// Write your code "
   ]
  },
  {
   "cell_type": "code",
   "execution_count": 5,
   "metadata": {},
   "outputs": [
    {
     "name": "stdout",
     "output_type": "stream",
     "text": [
      "hhd536\n",
      "-110\n"
     ]
    }
   ],
   "source": [
    "# Charsum\n",
    "\n",
    "s=input()\n",
    "s=list(s)\n",
    "sum=0\n",
    "for i in s:\n",
    "    sum+=ord(i)-(ord('a')-1)\n",
    "print(sum)\n",
    "    "
   ]
  },
  {
   "cell_type": "code",
   "execution_count": null,
   "metadata": {},
   "outputs": [],
   "source": [
    "'''\n",
    "# Sample code to perform I/O:\n",
    "\n",
    "name = input()                  # Reading input from STDIN\n",
    "print('Hi, %s.' % name)         # Writing output to STDOUT\n",
    "\n",
    "# Warning: Printing unwanted or ill-formatted data to output will cause the test cases to fail\n",
    "'''\n",
    "\n",
    "# Write your code here\n",
    "#string palindrome\n",
    "\n",
    "str1=input()\n",
    "str2=str1[::-1]\n",
    "if str1==str2:\n",
    "    print(\"YES\")\n",
    "else:\n",
    "    print(\"NO\")\n",
    "    \n",
    "    \n",
    "#string palindrome or not\n",
    "\n"
   ]
  },
  {
   "cell_type": "code",
   "execution_count": null,
   "metadata": {},
   "outputs": [],
   "source": [
    "# Two Strings\n",
    "'''\n",
    "# Sample code to perform I/O:\n",
    "\n",
    "name = input()                  # Reading input from STDIN\n",
    "print('Hi, %s.' % name)         # Writing output to STDOUT\n",
    "\n",
    "# Warning: Printing unwanted or ill-formatted data to output will cause the test cases to fail\n",
    "'''\n",
    "\n",
    "# Write your code here\n",
    "def twostring():\n",
    "    n=int(input())\n",
    "    for i in range(1,n+1):\n",
    "        s=input().split()\n",
    "        s1=s[0]\n",
    "        s2=s[1]\n",
    "        if sorted(s1)==sorted(s2):\n",
    "            print(\"YES\")\n",
    "        else:\n",
    "            print(\"NO\")\n"
   ]
  },
  {
   "cell_type": "code",
   "execution_count": 6,
   "metadata": {},
   "outputs": [
    {
     "name": "stdout",
     "output_type": "stream",
     "text": [
      "asdfj asSDFGHJ\n",
      "ASDFJ ASsdfghj\n"
     ]
    }
   ],
   "source": [
    "# Toggle String\n",
    "\n",
    "def UL(s):\n",
    "    \n",
    "    a=\"\"\n",
    "    for i in s:\n",
    "        if (i == i.upper()):\n",
    "            a = a+i.lower()\n",
    "        elif (i == i.lower()):\n",
    "            a = a+i.upper()\n",
    "        \n",
    "    print(a)\n",
    "\n",
    "s=input()\n",
    "\n",
    "UL(s)"
   ]
  },
  {
   "cell_type": "code",
   "execution_count": null,
   "metadata": {},
   "outputs": [],
   "source": [
    " "
   ]
  },
  {
   "cell_type": "code",
   "execution_count": null,
   "metadata": {},
   "outputs": [],
   "source": [
    "# Duration\n",
    "\n",
    "n=int(input())  \n",
    "def calhours(sh,sm,eh,em):\n",
    "    em=em+60\n",
    "    eh=eh-1\n",
    "    m=em-sm\n",
    "    h=eh-sh\n",
    "    if m>=60:\n",
    "        h=h+1\n",
    "        m=m-60\n",
    "    print(h,m)\n",
    "       \n",
    "for i in range(n):\n",
    "    s=input()\n",
    "    s=s.split()\n",
    "    sh=int(s[0])\n",
    "    sm=int(s[1])\n",
    "    eh=int(s[2])\n",
    "    em=int(s[3])\n",
    "    calhours(sh,sm,eh,em)\n",
    "    "
   ]
  },
  {
   "cell_type": "code",
   "execution_count": 12,
   "metadata": {},
   "outputs": [
    {
     "name": "stdout",
     "output_type": "stream",
     "text": [
      "0 30\n"
     ]
    }
   ],
   "source": [
    "# Calculate the time differnces as total numbers\n",
    "# Convert the total \n",
    "s = \" 1 44 2 14\"\n",
    "def mindiff(s):\n",
    "    s=s.split()\n",
    "    sh = int(s[0])\n",
    "    sm = int(s[1])\n",
    "    eh = int(s[2])\n",
    "    em = int(s[3])\n",
    "    stratmin =(sh * 60) + sm\n",
    "    endmin = (eh * 60) + em\n",
    "    return endmin - stratmin\n",
    "\n",
    "def outputtimeformat(minutes):\n",
    "    hh = minutes // 60\n",
    "    mm = minutes % 60 \n",
    "    print(hh ,mm)\n",
    "    \n",
    "    return\n",
    "minutes = mindiff(s)\n",
    "\n",
    "outputtimeformat(minutes)\n",
    "\n",
    "    "
   ]
  },
  {
   "cell_type": "code",
   "execution_count": null,
   "metadata": {},
   "outputs": [],
   "source": []
  }
 ],
 "metadata": {
  "kernelspec": {
   "display_name": "Python 3",
   "language": "python",
   "name": "python3"
  },
  "language_info": {
   "codemirror_mode": {
    "name": "ipython",
    "version": 3
   },
   "file_extension": ".py",
   "mimetype": "text/x-python",
   "name": "python",
   "nbconvert_exporter": "python",
   "pygments_lexer": "ipython3",
   "version": "3.7.3"
  }
 },
 "nbformat": 4,
 "nbformat_minor": 2
}

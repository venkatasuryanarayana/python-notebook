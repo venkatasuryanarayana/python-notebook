{
 "cells": [
  {
   "cell_type": "markdown",
   "metadata": {},
   "source": [
    "### Markdown\n",
    "\n",
    "### Bold text\n",
    " ***Bold*** <br>\n",
    " \n",
    " ### Italic\n",
    "* *Italic* <br>\n",
    "\n",
    "### Lists\n",
    "* ***IB*** <br>\n",
    "\n",
    "### Ordered List and Unordered LIst\n",
    "* Normal text <br>\n",
    "  * sublist 1\n",
    "  * sublist 2\n",
    "  \n",
    "  \n",
    "  \n",
    "- [] option 1\n",
    "- [] option 2\n",
    "- [x] option 3\n",
    "  \n",
    " \n",
    "> 1.  Ordered list element 1\n",
    "> 2.  Ordered list element 2\n",
    "\n",
    "[Jupyter Logo](jupyter.png)\n",
    "\n",
    "printf(\"hello markdown\")\n",
    "\n",
    "![Jupyter Logo](jupyter.png)\n",
    " \n",
    "<img src=\"jupyter.png\" style=\"float:left\">\n",
    "\n",
    "<http://google.com/>\n",
    "\n",
    " I get 10 times more traffic from [Google] [1] than from\n",
    "[Yahoo] [2] or [MSN] [3].\n",
    "\n",
    "  [1]: http://google.com/        \"Google\"\n",
    "  [2]: http://search.yahoo.com/  \"Yahoo Search\"\n",
    "  [3]: http://search.msn.com/    \"MSN Search\"\n",
    "\n",
    "\n",
    "\n",
    "\n",
    "\n",
    "\n",
    "\n",
    "\n"
   ]
  },
  {
   "cell_type": "markdown",
   "metadata": {},
   "source": []
  },
  {
   "cell_type": "markdown",
   "metadata": {},
   "source": [
    "# Python basics\n",
    "\n",
    "## python version 3.7 \n",
    "\n",
    "* Scripting\n",
    "* object oriented"
   ]
  },
  {
   "cell_type": "code",
   "execution_count": 1,
   "metadata": {},
   "outputs": [
    {
     "name": "stdout",
     "output_type": "stream",
     "text": [
      "Good afternoon !||Hello python\n"
     ]
    }
   ],
   "source": [
    "# python comments\n",
    "\n",
    "print(\"Good afternoon\",\"!\",end=\"||\") # basic Output\n",
    "print(\"Hello python\")\n"
   ]
  },
  {
   "cell_type": "markdown",
   "metadata": {},
   "source": [
    "### Assignment"
   ]
  },
  {
   "cell_type": "code",
   "execution_count": 2,
   "metadata": {},
   "outputs": [
    {
     "name": "stdout",
     "output_type": "stream",
     "text": [
      "123 234 345\n"
     ]
    }
   ],
   "source": [
    "n1 = 123456 # Single variable Assignment\n",
    "n2 = n3 = n4 = n1         # Multi Variable Assignment to the same variable\n",
    "a,b,c = 123,234,345 # Multi Varaible Assignment with different values\n",
    "a\n",
    "b\n",
    "c # only last value is printed\n",
    "print(a,b,c) # now all the three values printed"
   ]
  },
  {
   "cell_type": "markdown",
   "metadata": {},
   "source": [
    "## Datatypes\n",
    "  - float\n",
    "  - int\n",
    "  - String"
   ]
  },
  {
   "cell_type": "code",
   "execution_count": 3,
   "metadata": {},
   "outputs": [
    {
     "data": {
      "text/plain": [
       "12.0"
      ]
     },
     "execution_count": 3,
     "metadata": {},
     "output_type": "execute_result"
    }
   ],
   "source": [
    "type(a)\n",
    "sl = \"Python\"\n",
    "type(sl)\n",
    "\n",
    "f1 = 12.345\n",
    "type(f1)\n",
    "\n",
    "# Converting int to float\n",
    "int(f1)#float conveted into int\n",
    "str(int(f1))#float converted into sting and int\n",
    "float(str(int(f1)))"
   ]
  },
  {
   "cell_type": "markdown",
   "metadata": {},
   "source": [
    "### Arithmetic Operations\n",
    "  * +\n",
    "  * -\n",
    "  * *\n",
    "  * /\n",
    "  * %"
   ]
  },
  {
   "cell_type": "code",
   "execution_count": 4,
   "metadata": {},
   "outputs": [
    {
     "data": {
      "text/plain": [
       "6130687873308026945890176790042303730066739281"
      ]
     },
     "execution_count": 4,
     "metadata": {},
     "output_type": "execute_result"
    }
   ],
   "source": [
    "\n",
    "n1 % 11\n",
    "\n",
    "n3 = n2 ** 123456 \n",
    "\n",
    "type(n3)\n",
    "len(str(n3))\n",
    "\n",
    "atoms = 10 ** 82\n",
    "len(str(atoms))\n",
    "type(str(atoms))\n",
    "\n",
    "122321 ** 9\n"
   ]
  },
  {
   "cell_type": "code",
   "execution_count": null,
   "metadata": {},
   "outputs": [],
   "source": []
  },
  {
   "cell_type": "markdown",
   "metadata": {},
   "source": [
    "### Conditionals"
   ]
  },
  {
   "cell_type": "code",
   "execution_count": 5,
   "metadata": {},
   "outputs": [
    {
     "name": "stdout",
     "output_type": "stream",
     "text": [
      "FALSE\n"
     ]
    }
   ],
   "source": [
    "if atoms < 10 ** 9:\n",
    "    print(\"TRUE\")\n",
    "else:\n",
    "    print(\"FALSE\")\n"
   ]
  },
  {
   "cell_type": "code",
   "execution_count": null,
   "metadata": {},
   "outputs": [
    {
     "name": "stdout",
     "output_type": "stream",
     "text": [
      "Odd\n"
     ]
    }
   ],
   "source": [
    "#  check if anumber is Even or Odd\n",
    "\n",
    "n=123\n",
    "if n%2 == 0:\n",
    "    print(\"even\")\n",
    "else:\n",
    "    print(\"Odd\")"
   ]
  },
  {
   "cell_type": "code",
   "execution_count": null,
   "metadata": {},
   "outputs": [],
   "source": [
    "#find the greatest of 3 numbers\n",
    "\n",
    "n1 = input(\"Enter the first number\")\n",
    "n2 = input(\"Enter the second number\")\n",
    "n3 = input(\"Enter the third number\")\n",
    "\n",
    "if n1 > n2 and n1 > n3:\n",
    "    print(n1, \"is the greatest\")\n",
    "elif n2 > n3:\n",
    "    print(n2, \"is the greatest\")\n",
    "else:\n",
    "    print(n3, \"is the greatest\")"
   ]
  },
  {
   "cell_type": "code",
   "execution_count": null,
   "metadata": {},
   "outputs": [],
   "source": [
    "### find the greatest of 3 numbers\n",
    "\n",
    "n1 = input(\"Enter the first number\")\n",
    "n2 = input(\"Enter the second number\")\n",
    "n3 = input(\"Enter the third number\")\n",
    "\n",
    "if n1 > n2 and n1 > n3:\n",
    "    print(n1, \"is the greatest\")\n",
    "elif n2 > n3:\n",
    "    print(n2, \"is the greatest\")\n",
    "else:\n",
    "    print(n3, \"is the greatest\")"
   ]
  },
  {
   "cell_type": "code",
   "execution_count": null,
   "metadata": {},
   "outputs": [],
   "source": []
  },
  {
   "cell_type": "code",
   "execution_count": null,
   "metadata": {},
   "outputs": [],
   "source": [
    "n1 = int(input(\"Enter the first number\"))\n",
    "n2 = int(input(\"Enter the second number\"))\n",
    "n3 = int(input(\"Enter the third number\"))\n",
    "\n",
    "if n1 > n2 and n1 > n3:\n",
    "    print(n1, \"is the greatest\")\n",
    "elif n2 > n3:\n",
    "    print(n2, \"is the greatest\")\n",
    "else:\n",
    "    print(n3, \"is the greatest\")"
   ]
  },
  {
   "cell_type": "code",
   "execution_count": 1,
   "metadata": {},
   "outputs": [
    {
     "name": "stdout",
     "output_type": "stream",
     "text": [
      "Enter the first number3\n",
      "Enter the second number5\n",
      "Enter the third number8\n",
      "8 is the greatest\n"
     ]
    }
   ],
   "source": [
    "n1 = int(input(\"Enter the first number\"))\n",
    "n2 = int(input(\"Enter the second number\"))\n",
    "n3 = int(input(\"Enter the third number\"))\n",
    "\n",
    "if n1 > n2 and n1 > n3:\n",
    "    print(n1, \"is the greatest\")\n",
    "elif n2 > n3:\n",
    "    print(n2, \"is the greatest\")\n",
    "else:\n",
    "    print(n3, \"is the greatest\")"
   ]
  },
  {
   "cell_type": "markdown",
   "metadata": {},
   "source": [
    "##### check if a number exist in agiven range"
   ]
  },
  {
   "cell_type": "code",
   "execution_count": null,
   "metadata": {},
   "outputs": [],
   "source": [
    "n1 = "
   ]
  },
  {
   "cell_type": "code",
   "execution_count": 4,
   "metadata": {},
   "outputs": [
    {
     "name": "stdout",
     "output_type": "stream",
     "text": [
      "Enter the number:2000\n",
      "2000 leap year\n"
     ]
    }
   ],
   "source": [
    "#check leap year or not\n",
    "year = int(input(\"Enter the number:\"))\n",
    "\n",
    "if ((year%4==0) and ((year%400==0) or (year%100!=0))):\n",
    "    print(year,\"leap year\")\n",
    "else:\n",
    "    print(year,\"not a leap year\")"
   ]
  },
  {
   "cell_type": "code",
   "execution_count": 7,
   "metadata": {},
   "outputs": [
    {
     "name": "stdout",
     "output_type": "stream",
     "text": [
      "Enter the number:345\n",
      "Total number of digits 3\n"
     ]
    }
   ],
   "source": [
    "#calculate the number of digits in a number\n",
    "count = 0\n",
    "num = int(input(\"Enter the number:\"))\n",
    "\n",
    "while (num>0):\n",
    "    num = num//10\n",
    "    count = count+1\n",
    "print(\"Total number of digits\",count)"
   ]
  },
  {
   "cell_type": "code",
   "execution_count": null,
   "metadata": {},
   "outputs": [],
   "source": [
    "#check if a number is a multiple of 10\n",
    "number = int(input(\"Enter the number:\"))\n",
    "\n",
    "if (number%10==0):\n",
    "    print(n1,\"is a multiple of 10\")\n",
    "else:\n",
    "    print(n1,\"is not a multiple of 10\")\n",
    "     \n"
   ]
  },
  {
   "cell_type": "code",
   "execution_count": 11,
   "metadata": {},
   "outputs": [
    {
     "name": "stdout",
     "output_type": "stream",
     "text": [
      "Please Enter any Number: 1000\n",
      "Factors of a Given Number 1000 are:\n",
      "1\n",
      "2\n",
      "4\n",
      "5\n",
      "8\n",
      "10\n",
      "20\n",
      "25\n",
      "40\n",
      "50\n",
      "100\n",
      "125\n",
      "200\n",
      "250\n",
      "500\n",
      "1000\n"
     ]
    }
   ],
   "source": [
    "#check if anumber is a factor of 1000\n",
    "number = int(input(\"Please Enter any Number: \"))\n",
    "\n",
    "value = 1\n",
    "print(\"Factors of a Given Number {0} are:\".format(number))\n",
    "\n",
    "while (value <= number):\n",
    "    if(number % value == 0):\n",
    "        print(\"{0}\".format(value))\n",
    "    value = value + 1\n"
   ]
  },
  {
   "cell_type": "code",
   "execution_count": 8,
   "metadata": {},
   "outputs": [
    {
     "name": "stdout",
     "output_type": "stream",
     "text": [
      "12345 is equal to 12345\n"
     ]
    }
   ],
   "source": [
    "#check if given string is equal to a number \n",
    "s1 = \"12345\"\n",
    "n1 = 12345\n",
    "if str(n1) == s1:\n",
    "    print(n1,\"is equal to\",s1)\n",
    "else:\n",
    "    print(n1,\"is not equal to\",s1)"
   ]
  },
  {
   "cell_type": "code",
   "execution_count": 10,
   "metadata": {},
   "outputs": [
    {
     "name": "stdout",
     "output_type": "stream",
     "text": [
      "Enter the number:1000\n",
      "31536000000000000\n"
     ]
    }
   ],
   "source": [
    "#calculate the square root of a number without functions\n",
    "year = int(input(\"Enter the number:\"))\n",
    "\n",
    "if ((year%4==0) and ((year%400==0) or (year%100!=0))):\n",
    "    print(366 * 24 * 60 * 60 * (10 ** 9)\n",
    "else:\n",
    "    print(365 * 24 * 60 * 60 * (10 ** 9)\n"
   ]
  },
  {
   "cell_type": "code",
   "execution_count": null,
   "metadata": {},
   "outputs": [],
   "source": []
  }
 ],
 "metadata": {
  "kernelspec": {
   "display_name": "Python 3",
   "language": "python",
   "name": "python3"
  },
  "language_info": {
   "codemirror_mode": {
    "name": "ipython",
    "version": 3
   },
   "file_extension": ".py",
   "mimetype": "text/x-python",
   "name": "python",
   "nbconvert_exporter": "python",
   "pygments_lexer": "ipython3",
   "version": "3.7.3"
  }
 },
 "nbformat": 4,
 "nbformat_minor": 2
}

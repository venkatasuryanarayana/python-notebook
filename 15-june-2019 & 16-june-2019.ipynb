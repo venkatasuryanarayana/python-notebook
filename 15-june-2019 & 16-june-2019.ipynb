{
 "cells": [
  {
   "cell_type": "markdown",
   "metadata": {},
   "source": [
    "#### Problem - ClosestZero\n",
    "\n",
    "- li = [-3, 2, -1, -2, -3]\n",
    "- sort the data\n",
    "- li = [-3, -2, -1, 2, 3] (sorted list)\n",
    "- pl = [1,2,2,3,3] (Positive list)\n",
    "- "
   ]
  },
  {
   "cell_type": "code",
   "execution_count": 1,
   "metadata": {},
   "outputs": [
    {
     "name": "stdout",
     "output_type": "stream",
     "text": [
      "1\n"
     ]
    }
   ],
   "source": [
    "li = [1, 5, -1000]\n",
    "\n",
    "li.sort()\n",
    "li\n",
    "\n",
    "pl = []\n",
    "\n",
    "for i in li:\n",
    "    pl.append(abs(i))\n",
    "    \n",
    "pl.sort()\n",
    "if pl[0] in li:\n",
    "    pl.append(abs(i))\n",
    "    \n",
    "pl.sort()\n",
    "if pl[0] in li:\n",
    "    print(pl[0])\n",
    "else:\n",
    "    print(-pl[0])"
   ]
  },
  {
   "cell_type": "code",
   "execution_count": 12,
   "metadata": {},
   "outputs": [
    {
     "name": "stdout",
     "output_type": "stream",
     "text": [
      "1\n"
     ]
    }
   ],
   "source": [
    "li = [-1, -2, 2, 3, 1]\n",
    "\n",
    "li.sort()\n",
    "li\n",
    "\n",
    "pl = []\n",
    "\n",
    "for i in li:              # appending list values to p1 now values are there in p1\n",
    "    pl.append(abs(i))\n",
    "    \n",
    "pl.sort()\n",
    "if pl[0] in li:\n",
    "    pl.append(abs(i))\n",
    "    \n",
    "pl.sort()\n",
    "if pl[0] in li:\n",
    "    print(pl[0])\n",
    "else:\n",
    "    print(-pl[0])"
   ]
  },
  {
   "cell_type": "code",
   "execution_count": 22,
   "metadata": {},
   "outputs": [
    {
     "name": "stdout",
     "output_type": "stream",
     "text": [
      "9\n",
      "No\n"
     ]
    }
   ],
   "source": [
    "def primenumbers(N):\n",
    "    count = 0\n",
    "    list=[]\n",
    "    for number in range(1,N+1):\n",
    "        \n",
    "        if (N % number) == 0:\n",
    "            count = count + 1\n",
    "    if (count == 2):\n",
    "        print(\"Prime\")\n",
    "    else:\n",
    "        print(\"No\")\n",
    "    #print(count)\n",
    "                   \n",
    "            \n",
    "    \n",
    "N=int(input())\n",
    "\n",
    "primenumbers(N)"
   ]
  },
  {
   "cell_type": "code",
   "execution_count": 23,
   "metadata": {
    "scrolled": true
   },
   "outputs": [
    {
     "name": "stdout",
     "output_type": "stream",
     "text": [
      "9\n",
      "2 3 5 7 "
     ]
    }
   ],
   "source": [
    "def primenumbers(N):\n",
    "    list=[]\n",
    "    a=0\n",
    "    for number in range(1,N+1):\n",
    "        if (number == 2 or number == 3):\n",
    "            list.append(number)\n",
    "        elif (N%number==0 or N%1==0) and (number%2!=0 and number%3!=0 and number != 1) :\n",
    "            list.append(number)\n",
    "    for i in list:\n",
    "        print(i, end = \" \")        \n",
    "N=int(input())\n",
    "\n",
    "primenumbers(N)"
   ]
  },
  {
   "cell_type": "code",
   "execution_count": 24,
   "metadata": {},
   "outputs": [
    {
     "name": "stdout",
     "output_type": "stream",
     "text": [
      "9\n",
      "2 3 5 7 "
     ]
    }
   ],
   "source": [
    "def primenumbers(lb,ub):\n",
    "   for num in range(lb,ub + 1):\n",
    "       if num > 1:\n",
    "           for i in range(2, num):\n",
    "               if (num % i) == 0:\n",
    "                   break\n",
    "           else:\n",
    "               print(num, end = ' ')\n",
    "n=int(input())\n",
    "               \n",
    "primenumbers(1,n)"
   ]
  },
  {
   "cell_type": "code",
   "execution_count": 26,
   "metadata": {},
   "outputs": [
    {
     "name": "stdout",
     "output_type": "stream",
     "text": [
      "SurYa\n",
      "sURyA\n"
     ]
    }
   ],
   "source": [
    "# Toggle String\n",
    "\n",
    "def UL(s):\n",
    "    \n",
    "    a=\"\"\n",
    "    for i in s:\n",
    "        if (i == i.upper()):\n",
    "            a = a+i.lower()\n",
    "        elif (i == i.lower()):\n",
    "            a = a+i.upper()\n",
    "        \n",
    "    print(a)\n",
    "\n",
    "s=input()\n",
    "\n",
    "UL(s)"
   ]
  },
  {
   "cell_type": "markdown",
   "metadata": {},
   "source": [
    "### problem - 3\n",
    "your are given three numbers a,b and c. write a program to find the largest number which is less than or equal to c and leaves remainder b when divide by a\n",
    "\n",
    "2\n",
    "3 2 9 \n",
    "\n",
    "9 % 3 == 0\n",
    "\n",
    "8 % 3 == 2\n",
    "\n",
    "a b c\n",
    "1 2 4\n",
    "4 % 1 == 0\n",
    "3 % 1 == 0\n",
    "2 % 1 == 0\n",
    "1 % 1 == 0\n",
    "0 % 1 == 0\n",
    "-1 % 1 == 2\n",
    "\n",
    "\n"
   ]
  },
  {
   "cell_type": "code",
   "execution_count": 12,
   "metadata": {},
   "outputs": [
    {
     "data": {
      "text/plain": [
       "98"
      ]
     },
     "execution_count": 12,
     "metadata": {},
     "output_type": "execute_result"
    }
   ],
   "source": [
    "def cal(a, b, c):\n",
    "    for i in range(c, a-1, -1): # c, c-1, ....... a\n",
    "        if i % a == b:\n",
    "            return i\n",
    "    return -1\n",
    "cal(3, 2, 100)"
   ]
  },
  {
   "cell_type": "code",
   "execution_count": 13,
   "metadata": {},
   "outputs": [
    {
     "name": "stdout",
     "output_type": "stream",
     "text": [
      "1 2 3\n",
      "1 3\n"
     ]
    }
   ],
   "source": [
    "i,j,k=input().split()\n",
    "print(i,k)"
   ]
  },
  {
   "cell_type": "code",
   "execution_count": 25,
   "metadata": {},
   "outputs": [
    {
     "name": "stdout",
     "output_type": "stream",
     "text": [
      "15\n",
      "1\n",
      "False\n",
      "2\n",
      "True\n",
      "2\n",
      "True\n",
      "3\n",
      "False\n",
      "2\n",
      "True\n",
      "4\n",
      "False\n",
      "2\n",
      "True\n",
      "4\n",
      "False\n",
      "3\n",
      "False\n",
      "4\n",
      "False\n",
      "2\n",
      "True\n",
      "6\n",
      "False\n",
      "2\n",
      "True\n",
      "4\n",
      "False\n",
      "4\n",
      "False\n"
     ]
    }
   ],
   "source": [
    "def isPrime(n):\n",
    "    \n",
    "    c=0\n",
    "    for i in range(1,n+1):\n",
    "        \n",
    "        if n%i == 0:\n",
    "            \n",
    "            c = c+1\n",
    "    print(c)\n",
    "    if c == 2:\n",
    "        \n",
    "        print(\"True\")\n",
    "    else:\n",
    "        \n",
    "        print(\"False\")\n",
    "        \n",
    "#j = int(input())\n",
    "#isPrime(j)\n",
    "\n",
    "def numOfPrime(r):\n",
    "    for h in range(1,r+1):\n",
    "        if isPrime(h):\n",
    "            print(h,end=\" \")\n",
    "            \n",
    "j = int(input())\n",
    "numOfPrime(j)\n",
    "        \n",
    "\n",
    "            "
   ]
  },
  {
   "cell_type": "code",
   "execution_count": 1,
   "metadata": {
    "scrolled": true
   },
   "outputs": [
    {
     "name": "stdout",
     "output_type": "stream",
     "text": [
      "294\n",
      "294\n"
     ]
    }
   ],
   "source": [
    "s=\"abc bca\"\n",
    "s=s.split()\n",
    "s1=s[0]\n",
    "s2=s[1]\n",
    "sm1=0\n",
    "sm2=0\n",
    "for ch in s1:\n",
    "    sm1=sm1+ord(ch)\n",
    "print(sm1)\n",
    "for ch in s2:\n",
    "    sm2=sm2+ord(ch)\n",
    "print(sm2)"
   ]
  },
  {
   "cell_type": "code",
   "execution_count": 34,
   "metadata": {},
   "outputs": [
    {
     "name": "stdout",
     "output_type": "stream",
     "text": [
      "surya\n",
      "abcdeabcdeabcdeabcdeabcde\n"
     ]
    }
   ],
   "source": [
    "def toggle():\n",
    "    s = input()\n",
    "    new = \"\"\n",
    "    capitals = ['A','B','C','D','E']\n",
    "    small = ['a','b','c','d','e']\n",
    "    for i in s:\n",
    "        for i in capitals:\n",
    "            n = capitals.index(i)\n",
    "            new = new+small[n]\n",
    "        if i in small:\n",
    "            m = small.index(i)\n",
    "            new = new+capitals[m]\n",
    "    print(new)\n",
    "toggle()"
   ]
  },
  {
   "cell_type": "code",
   "execution_count": 21,
   "metadata": {},
   "outputs": [
    {
     "name": "stdout",
     "output_type": "stream",
     "text": [
      "madam\n",
      "YES\n"
     ]
    }
   ],
   "source": [
    "\n",
    "def palindrome(s):\n",
    "    a = s[::-1]\n",
    "    if a==s:\n",
    "        print(\"YES\")\n",
    "    else:\n",
    "        print(\"NO\")\n",
    "        \n",
    "s = input()\n",
    "palindrome(s)"
   ]
  },
  {
   "cell_type": "code",
   "execution_count": 9,
   "metadata": {},
   "outputs": [
    {
     "data": {
      "text/plain": [
       "['abc']"
      ]
     },
     "execution_count": 9,
     "metadata": {},
     "output_type": "execute_result"
    }
   ],
   "source": [
    "# function to toggle String characters\n",
    "s = \"abc\"\n",
    "\n",
    "s.isupper()\n",
    "s.islower()\n",
    "\n",
    "s.lower() # convert a character to lowercase\n",
    "s.upper() # convert a charcter to uppercase\n",
    "\n",
    "s.split()\n",
    "list(s)\n",
    "#s.split(\" \")"
   ]
  },
  {
   "cell_type": "code",
   "execution_count": 15,
   "metadata": {},
   "outputs": [
    {
     "data": {
      "text/plain": [
       "'aBc'"
      ]
     },
     "execution_count": 15,
     "metadata": {},
     "output_type": "execute_result"
    }
   ],
   "source": [
    "# Function to toggle String characters\n",
    "\n",
    "def toggleString(s):\n",
    "    # Convert the string into a  list of characters\n",
    "    s = list(s)\n",
    "    t = []\n",
    "    for c in s:\n",
    "        if c.islower():\n",
    "            t.append(c.upper())\n",
    "        else:\n",
    "            t.append(c.lower())\n",
    "    return \"\".join(t)\n",
    "\n",
    "toggleString(\"AbC\")\n",
    "        "
   ]
  },
  {
   "cell_type": "code",
   "execution_count": 16,
   "metadata": {},
   "outputs": [
    {
     "name": "stdout",
     "output_type": "stream",
     "text": [
      "aBa\n",
      "-28\n"
     ]
    }
   ],
   "source": [
    "# charsum\n",
    "\n",
    "def charsum():\n",
    "    abc = input()\n",
    "    abc = list(abc)\n",
    "    sum = 0\n",
    "    for i in abc:\n",
    "        sum+=ord(i)-(ord('a')-1)\n",
    "    print(sum)\n",
    "    \n",
    "charsum()"
   ]
  },
  {
   "cell_type": "markdown",
   "metadata": {},
   "source": [
    "### Duration\n",
    "\n",
    "Input: start time, end time (HH MM)\n",
    "        HH - {00, 23} - {00 00,23 59}\n",
    "        MM - {00, 59}\n",
    "        HH MM - {00 00, 23 59}\n",
    "        \n",
    "Output: time difference in HH MM\n"
   ]
  },
  {
   "cell_type": "code",
   "execution_count": 20,
   "metadata": {},
   "outputs": [
    {
     "name": "stdout",
     "output_type": "stream",
     "text": [
      "0 30\n"
     ]
    }
   ],
   "source": [
    "s = \"1 44 2 14\"\n",
    "def minuteDifference(s):\n",
    "    s = s.split()\n",
    "    sh = int(s[0])\n",
    "    sm = int(s[1])\n",
    "    eh = int(s[2])\n",
    "    em = int(s[3])\n",
    "    startminutes = (sh * 60) + sm\n",
    "    endminutes = (eh * 60) + em\n",
    "    return endminutes - startminutes\n",
    "\n",
    "def outputTimeFormat(minutes):\n",
    "    # Convert minutes to HH MM\n",
    "    hh = minutes // 60\n",
    "    mm = minutes % 60\n",
    "    print(hh ,mm)\n",
    "    return \n",
    "\n",
    "minutes = minuteDifference(s)\n",
    "outputTimeFormat(minutes)"
   ]
  },
  {
   "cell_type": "code",
   "execution_count": 27,
   "metadata": {},
   "outputs": [
    {
     "name": "stdout",
     "output_type": "stream",
     "text": [
      "1 12 11 14\n"
     ]
    },
    {
     "ename": "ValueError",
     "evalue": "invalid literal for int() with base 10: '1 12 11 14'",
     "output_type": "error",
     "traceback": [
      "\u001b[1;31m---------------------------------------------------------------------------\u001b[0m",
      "\u001b[1;31mValueError\u001b[0m                                Traceback (most recent call last)",
      "\u001b[1;32m<ipython-input-27-7937d12e69c7>\u001b[0m in \u001b[0;36m<module>\u001b[1;34m\u001b[0m\n\u001b[0;32m      1\u001b[0m \u001b[1;31m# Duration\u001b[0m\u001b[1;33m\u001b[0m\u001b[1;33m\u001b[0m\u001b[1;33m\u001b[0m\u001b[0m\n\u001b[0;32m      2\u001b[0m \u001b[1;33m\u001b[0m\u001b[0m\n\u001b[1;32m----> 3\u001b[1;33m \u001b[0mn\u001b[0m\u001b[1;33m=\u001b[0m\u001b[0mint\u001b[0m\u001b[1;33m(\u001b[0m\u001b[0minput\u001b[0m\u001b[1;33m(\u001b[0m\u001b[1;33m)\u001b[0m\u001b[1;33m)\u001b[0m\u001b[1;33m\u001b[0m\u001b[1;33m\u001b[0m\u001b[0m\n\u001b[0m\u001b[0;32m      4\u001b[0m \u001b[1;32mdef\u001b[0m \u001b[0mcalhours\u001b[0m\u001b[1;33m(\u001b[0m\u001b[0msh\u001b[0m\u001b[1;33m,\u001b[0m\u001b[0msm\u001b[0m\u001b[1;33m,\u001b[0m\u001b[0meh\u001b[0m\u001b[1;33m,\u001b[0m\u001b[0mem\u001b[0m\u001b[1;33m)\u001b[0m\u001b[1;33m:\u001b[0m\u001b[1;33m\u001b[0m\u001b[1;33m\u001b[0m\u001b[0m\n\u001b[0;32m      5\u001b[0m     \u001b[0mem\u001b[0m\u001b[1;33m=\u001b[0m\u001b[0mem\u001b[0m\u001b[1;33m+\u001b[0m\u001b[1;36m60\u001b[0m\u001b[1;33m\u001b[0m\u001b[1;33m\u001b[0m\u001b[0m\n",
      "\u001b[1;31mValueError\u001b[0m: invalid literal for int() with base 10: '1 12 11 14'"
     ]
    }
   ],
   "source": [
    "# Duration\n",
    "\n",
    "n=int(input())  \n",
    "def calhours(sh,sm,eh,em):\n",
    "    em=em+60\n",
    "    eh=eh-1\n",
    "    m=em-sm\n",
    "    h=eh-sh\n",
    "    if m>=60:\n",
    "        h=h+1\n",
    "        m=m-60\n",
    "    print(h,m)\n",
    "       \n",
    "for i in range(n):\n",
    "    s=input()\n",
    "    s=s.split()\n",
    "    sh=int(s[0])\n",
    "    sm=int(s[1])\n",
    "    eh=int(s[2])\n",
    "    em=int(s[3])\n",
    "    calhours(sh,sm,eh,em)"
   ]
  },
  {
   "cell_type": "code",
   "execution_count": null,
   "metadata": {},
   "outputs": [],
   "source": []
  },
  {
   "cell_type": "markdown",
   "metadata": {},
   "source": [
    "# p = 2\n"
   ]
  }
 ],
 "metadata": {
  "kernelspec": {
   "display_name": "Python 3",
   "language": "python",
   "name": "python3"
  },
  "language_info": {
   "codemirror_mode": {
    "name": "ipython",
    "version": 3
   },
   "file_extension": ".py",
   "mimetype": "text/x-python",
   "name": "python",
   "nbconvert_exporter": "python",
   "pygments_lexer": "ipython3",
   "version": "3.7.3"
  }
 },
 "nbformat": 4,
 "nbformat_minor": 2
}

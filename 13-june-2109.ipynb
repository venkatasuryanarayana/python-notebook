{
 "cells": [
  {
   "cell_type": "markdown",
   "metadata": {},
   "source": [
    "# Function printNNatural numbers"
   ]
  },
  {
   "cell_type": "code",
   "execution_count": 4,
   "metadata": {},
   "outputs": [
    {
     "name": "stdout",
     "output_type": "stream",
     "text": [
      "500 504 508 512 516 520 524 "
     ]
    }
   ],
   "source": [
    "# Function to print the alternate values in a range in the same line\n",
    "# [500, 550] -> 500 502 504 .......... 550 Include the boundaries like first and last value\n",
    "# (500, 550) -> 501 503 505 .......... 549 Exclude the boundaries like first and last value\n",
    "# range(500, 550) -> 500 501 502..........549 last value is exclusive\n",
    "# All set based functions in python have start value \n",
    "\n",
    "def alternateValues(start, end):\n",
    "    for value in range(start, end+1,4):# here  end+1 because in range 549 we find 550 in range & 4 is location\n",
    "        print(value, end=\" \")\n",
    "    return \n",
    "\n",
    "alternateValues(500, 525)\n",
    "    \n",
    "\n",
    "\n",
    "\n"
   ]
  },
  {
   "cell_type": "code",
   "execution_count": 12,
   "metadata": {},
   "outputs": [
    {
     "name": "stdout",
     "output_type": "stream",
     "text": [
      "10 9 8 7 6 5 4 3 2 1 "
     ]
    }
   ],
   "source": [
    "#Function to print reverse of given range in the\n",
    "def reverseRange(start, end):\n",
    "    for value in range(end, start-1,-1):# -1 prints reverse order & start-1 print upto the range\n",
    "        print(value, end=\" \")\n",
    "    return \n",
    "\n",
    "reverseRange(1,10)\n",
    "    "
   ]
  },
  {
   "cell_type": "code",
   "execution_count": 17,
   "metadata": {},
   "outputs": [
    {
     "name": "stdout",
     "output_type": "stream",
     "text": [
      "29 27 25 23 21 19 17 15 13 11 9 7 5 3 1 "
     ]
    }
   ],
   "source": [
    "# Function to print the odd numbers in reverse order in a \n",
    "def oddNumbers(lb,ub):\n",
    "    for i in range(ub, lb-1,-1):\n",
    "        if(i%2!=0):\n",
    "            print(i, end=\" \")\n",
    "    return\n",
    "oddNumbers(1,30)\n"
   ]
  },
  {
   "cell_type": "code",
   "execution_count": 18,
   "metadata": {},
   "outputs": [
    {
     "data": {
      "text/plain": [
       "15150"
      ]
     },
     "execution_count": 18,
     "metadata": {},
     "output_type": "execute_result"
    }
   ],
   "source": [
    "# Function to calculate the sum of numbers in a range\n",
    "\n",
    "def sumRange(start, end):\n",
    "    sum=0\n",
    "    for i in range(start, end+1):\n",
    "        sum = sum+i\n",
    "    return sum\n",
    "\n",
    "sumRange(100, 200)\n",
    "    "
   ]
  },
  {
   "cell_type": "code",
   "execution_count": 31,
   "metadata": {},
   "outputs": [
    {
     "data": {
      "text/plain": [
       "3"
      ]
     },
     "execution_count": 31,
     "metadata": {},
     "output_type": "execute_result"
    }
   ],
   "source": [
    "# Function to calculate the average of a given range\n",
    "\n",
    "def averageRange(start, end):\n",
    "    sum = 0\n",
    "    count = 0\n",
    "    for i in range(start, end+1):\n",
    "        sum = sum + i #sum calculations\n",
    "        count = count+1 #Counting number of values\n",
    "    return sum//count\n",
    "\n",
    "averageRange(1,5)\n"
   ]
  },
  {
   "cell_type": "code",
   "execution_count": 23,
   "metadata": {},
   "outputs": [
    {
     "name": "stdout",
     "output_type": "stream",
     "text": [
      "1920 1924 1928 1932 1936 1940 1944 1948 1952 1956 1960 1964 1968 1972 1976 1980 1984 1988 1992 1996 2000 2004 2008 2012 2016 "
     ]
    }
   ],
   "source": [
    "# Function to generate all leap year in agiven time peroid \n",
    "# 2000 - 2020 --> 2000 2004 2008 2012 2016 2020\n",
    "\n",
    "#isLeapYear(year) # To check if a given year is a Leap year\n",
    "def isLeapYear(year):\n",
    "    if year % 400 == 0 or (year%100 != 0 and year%4 == 0):\n",
    "        \n",
    "        return True\n",
    "    else:\n",
    "        return False\n",
    "    \n",
    "isLeapYear(2000)\n",
    "       \n",
    "\n",
    "#generateLeapYears(startyear, endyear) # uses the isLeapYear() to select\n",
    "\n",
    "def generateLeapYears(startyear, endyear):\n",
    "    for year in range(startyear, endyear+1):\n",
    "        if isLeapYear(year):\n",
    "            print(year, end=\" \")\n",
    "    return \n",
    "\n",
    "generateLeapYears(1919, 2019)\n",
    "\n",
    "\n"
   ]
  },
  {
   "cell_type": "code",
   "execution_count": null,
   "metadata": {},
   "outputs": [],
   "source": []
  },
  {
   "cell_type": "code",
   "execution_count": 58,
   "metadata": {},
   "outputs": [
    {
     "data": {
      "text/plain": [
       "730"
      ]
     },
     "execution_count": 58,
     "metadata": {},
     "output_type": "execute_result"
    }
   ],
   "source": [
    "# caluclate the number of days in a given time period using leapyearlogic\n",
    "# For every year in the given time period, if the year is not a leap year -> add 366 to sum\n",
    "def numberofDays(startyear, endyear):\n",
    "    sum=0\n",
    "    for year in range(startyear, endyear+1):\n",
    "        if isLeapYear(year):\n",
    "            sum = sum + 366\n",
    "        else:\n",
    "            sum = sum + 365\n",
    "    return sum\n",
    "numberofDays(2001, 2002)\n",
    "        \n",
    "    \n"
   ]
  },
  {
   "cell_type": "code",
   "execution_count": 51,
   "metadata": {},
   "outputs": [
    {
     "data": {
      "text/plain": [
       "True"
      ]
     },
     "execution_count": 51,
     "metadata": {},
     "output_type": "execute_result"
    }
   ],
   "source": [
    "import calendar\n",
    "#dir(calendar)\n",
    "calendar.isleap(2020)"
   ]
  },
  {
   "cell_type": "code",
   "execution_count": 24,
   "metadata": {},
   "outputs": [
    {
     "data": {
      "text/plain": [
       "29"
      ]
     },
     "execution_count": 24,
     "metadata": {},
     "output_type": "execute_result"
    }
   ],
   "source": [
    "# function to calculate number of hours for a given period \n",
    "# numberOfHours(11, 1975, 03, 1999) -> 204504 or 205248\n",
    "# numberofHours(5, 2019, 6, 2019) -> 1464\n",
    "# 2, 2016, 6, 2019\n",
    "# [all days from feb 2016 to dec 2016,\n",
    "#step-2:. all days for years between 2016 and 2019,\n",
    "# all days from jan to june 2019]\n",
    "#No of hours = 24*No of days\n",
    "# 3 steps\n",
    "    #1. start month year to end year - calculate \n",
    "    #2. calculate days for all years between start year\n",
    "        #2017,2018 - 365 * no of years\n",
    "    #3. calculate days from jan to end month year\n",
    "    \n",
    "# Excluding Feb\n",
    "# First Six months - 1,3,4,5,6\n",
    "                    #All odd months have 31 days\n",
    "                    #All Even months have 30 days\n",
    "#Last Six months - 8,9,10,11,12\n",
    "                    #All even months have 31 days\n",
    "                    #All odd monts have 30 days\n",
    "#31days - (month <= 7 and month % 2 !=0 and month !=2) || (month)\n",
    "\n",
    "\n",
    "def numberofDaysMonth(month,year):\n",
    "    if month == 2:\n",
    "        \n",
    "        if isLeapYear(year):\n",
    "            return 29\n",
    "        return 28\n",
    "    elif (month <= 7 and month % 2!= 0) or (month >= 8 and month % 2 == 0): #\n",
    "        return 31\n",
    "    else:\n",
    "        return 30\n",
    "    \n",
    "numberofDaysMonth(2, 2020)\n",
    " "
   ]
  },
  {
   "cell_type": "code",
   "execution_count": 3,
   "metadata": {},
   "outputs": [
    {
     "ename": "NameError",
     "evalue": "name 'numberofDaysMonth' is not defined",
     "output_type": "error",
     "traceback": [
      "\u001b[1;31m---------------------------------------------------------------------------\u001b[0m",
      "\u001b[1;31mNameError\u001b[0m                                 Traceback (most recent call last)",
      "\u001b[1;32m<ipython-input-3-80019cdf1dbc>\u001b[0m in \u001b[0;36m<module>\u001b[1;34m\u001b[0m\n\u001b[0;32m     14\u001b[0m     \u001b[1;32mreturn\u001b[0m \u001b[0mdays\u001b[0m\u001b[1;33m\u001b[0m\u001b[1;33m\u001b[0m\u001b[0m\n\u001b[0;32m     15\u001b[0m \u001b[1;33m\u001b[0m\u001b[0m\n\u001b[1;32m---> 16\u001b[1;33m \u001b[0mdaysInEndYear\u001b[0m\u001b[1;33m(\u001b[0m\u001b[1;36m6\u001b[0m\u001b[1;33m,\u001b[0m\u001b[1;36m2019\u001b[0m\u001b[1;33m)\u001b[0m \u001b[1;31m#-->no.of days from jan to june\u001b[0m\u001b[1;33m\u001b[0m\u001b[1;33m\u001b[0m\u001b[0m\n\u001b[0m\u001b[0;32m     17\u001b[0m \u001b[0mdaysInEndYear\u001b[0m\u001b[1;33m(\u001b[0m\u001b[1;36m2\u001b[0m\u001b[1;33m,\u001b[0m\u001b[1;36m2020\u001b[0m\u001b[1;33m)\u001b[0m \u001b[1;31m#-->no.of days in jan(31)+ feb(29)\u001b[0m\u001b[1;33m\u001b[0m\u001b[1;33m\u001b[0m\u001b[0m\n\u001b[0;32m     18\u001b[0m \u001b[1;33m\u001b[0m\u001b[0m\n",
      "\u001b[1;32m<ipython-input-3-80019cdf1dbc>\u001b[0m in \u001b[0;36mdaysInEndYear\u001b[1;34m(endmonth, endyear)\u001b[0m\n\u001b[0;32m     11\u001b[0m     \u001b[0mdays\u001b[0m\u001b[1;33m=\u001b[0m\u001b[1;36m0\u001b[0m\u001b[1;33m\u001b[0m\u001b[1;33m\u001b[0m\u001b[0m\n\u001b[0;32m     12\u001b[0m     \u001b[1;32mfor\u001b[0m \u001b[0mmonth\u001b[0m \u001b[1;32min\u001b[0m \u001b[0mrange\u001b[0m\u001b[1;33m(\u001b[0m\u001b[1;36m1\u001b[0m\u001b[1;33m,\u001b[0m\u001b[0mendmonth\u001b[0m\u001b[1;33m+\u001b[0m\u001b[1;36m1\u001b[0m\u001b[1;33m)\u001b[0m\u001b[1;33m:\u001b[0m\u001b[1;33m\u001b[0m\u001b[1;33m\u001b[0m\u001b[0m\n\u001b[1;32m---> 13\u001b[1;33m         \u001b[0mdays\u001b[0m\u001b[1;33m=\u001b[0m\u001b[0mdays\u001b[0m\u001b[1;33m+\u001b[0m\u001b[0mnumberofDaysMonth\u001b[0m\u001b[1;33m(\u001b[0m\u001b[0mmonth\u001b[0m\u001b[1;33m,\u001b[0m\u001b[0mendyear\u001b[0m\u001b[1;33m)\u001b[0m\u001b[1;33m\u001b[0m\u001b[1;33m\u001b[0m\u001b[0m\n\u001b[0m\u001b[0;32m     14\u001b[0m     \u001b[1;32mreturn\u001b[0m \u001b[0mdays\u001b[0m\u001b[1;33m\u001b[0m\u001b[1;33m\u001b[0m\u001b[0m\n\u001b[0;32m     15\u001b[0m \u001b[1;33m\u001b[0m\u001b[0m\n",
      "\u001b[1;31mNameError\u001b[0m: name 'numberofDaysMonth' is not defined"
     ]
    }
   ],
   "source": [
    "def daysInStartYear(startmonth,startyear):\n",
    "    days=0\n",
    "    for month in range(startmonth,12+1): #it calculate 12th month also\n",
    "        days=days+numberofDaysMonth(month,startyear)\n",
    "    return days\n",
    "\n",
    "#daysInStartYear(6,2019)-->214\n",
    "##daysInStartYear(11,2019) -->61\n",
    "\n",
    "def daysInEndYear(endmonth,endyear):\n",
    "    days=0\n",
    "    for month in range(1,endmonth+1):\n",
    "        days=days+numberofDaysMonth(month,endyear)\n",
    "    return days\n",
    "\n",
    "daysInEndYear(6,2019) #-->no.of days from jan to june\n",
    "daysInEndYear(2,2020) #-->no.of days in jan(31)+ feb(29)\n",
    "\n",
    "def numberofHours(startmonth,startyear,endmonth,endyear):\n",
    "    days=0\n",
    "    days=days+daysInStartYear(startmonth,startyear)\n",
    "    days=days+daysInEndYear(endmonth,endyear)\n",
    "    if(endyear-startyear==1):\n",
    "        days=days+NoofDaysbetween(startyear+1,startyear+1)\n",
    "    elif endyear-startyear>2:\n",
    "        days=days+NoofDaysbetween(startyear+1,endyear-1)\n",
    "    return 24*days\n",
    "\n",
    "numberofHours(11,1975,3,1999)"
   ]
  },
  {
   "cell_type": "code",
   "execution_count": null,
   "metadata": {},
   "outputs": [],
   "source": []
  },
  {
   "cell_type": "code",
   "execution_count": 18,
   "metadata": {},
   "outputs": [
    {
     "ename": "NameError",
     "evalue": "name 'NoofDaysbetween' is not defined",
     "output_type": "error",
     "traceback": [
      "\u001b[1;31m---------------------------------------------------------------------------\u001b[0m",
      "\u001b[1;31mNameError\u001b[0m                                 Traceback (most recent call last)",
      "\u001b[1;32m<ipython-input-18-4b1cf9cae3b0>\u001b[0m in \u001b[0;36m<module>\u001b[1;34m\u001b[0m\n\u001b[0;32m     18\u001b[0m        \u001b[0mh\u001b[0m\u001b[1;33m=\u001b[0m\u001b[0mh\u001b[0m\u001b[1;33m+\u001b[0m\u001b[0ms2\u001b[0m\u001b[1;33m\u001b[0m\u001b[1;33m\u001b[0m\u001b[0m\n\u001b[0;32m     19\u001b[0m    \u001b[1;32mreturn\u001b[0m \u001b[0mh\u001b[0m\u001b[1;33m\u001b[0m\u001b[1;33m\u001b[0m\u001b[0m\n\u001b[1;32m---> 20\u001b[1;33m \u001b[0mNoofHoursbetween\u001b[0m\u001b[1;33m(\u001b[0m\u001b[1;36m11\u001b[0m\u001b[1;33m,\u001b[0m\u001b[1;36m1975\u001b[0m\u001b[1;33m,\u001b[0m\u001b[1;36m3\u001b[0m\u001b[1;33m,\u001b[0m\u001b[1;36m1999\u001b[0m\u001b[1;33m)\u001b[0m\u001b[1;33m\u001b[0m\u001b[1;33m\u001b[0m\u001b[0m\n\u001b[0m",
      "\u001b[1;32m<ipython-input-18-4b1cf9cae3b0>\u001b[0m in \u001b[0;36mNoofHoursbetween\u001b[1;34m(m1, y1, m2, y2)\u001b[0m\n\u001b[0;32m      4\u001b[0m    \u001b[0ms1\u001b[0m\u001b[1;33m=\u001b[0m\u001b[1;36m0\u001b[0m\u001b[1;33m\u001b[0m\u001b[1;33m\u001b[0m\u001b[0m\n\u001b[0;32m      5\u001b[0m    \u001b[0ms2\u001b[0m\u001b[1;33m=\u001b[0m\u001b[1;36m0\u001b[0m\u001b[1;33m\u001b[0m\u001b[1;33m\u001b[0m\u001b[0m\n\u001b[1;32m----> 6\u001b[1;33m    \u001b[0mh\u001b[0m\u001b[1;33m=\u001b[0m\u001b[0mNoofDaysbetween\u001b[0m\u001b[1;33m(\u001b[0m\u001b[0my1\u001b[0m\u001b[1;33m+\u001b[0m\u001b[1;36m1\u001b[0m\u001b[1;33m,\u001b[0m\u001b[0my2\u001b[0m\u001b[1;33m)\u001b[0m\u001b[1;33m*\u001b[0m\u001b[1;36m24\u001b[0m\u001b[1;33m\u001b[0m\u001b[1;33m\u001b[0m\u001b[0m\n\u001b[0m\u001b[0;32m      7\u001b[0m    \u001b[1;32mif\u001b[0m\u001b[1;33m(\u001b[0m\u001b[0misLeapYear\u001b[0m\u001b[1;33m(\u001b[0m\u001b[0my1\u001b[0m\u001b[1;33m)\u001b[0m \u001b[1;32mand\u001b[0m \u001b[0mm1\u001b[0m\u001b[1;33m<=\u001b[0m\u001b[1;36m2\u001b[0m\u001b[1;33m)\u001b[0m\u001b[1;33m:\u001b[0m\u001b[1;33m\u001b[0m\u001b[1;33m\u001b[0m\u001b[0m\n\u001b[0;32m      8\u001b[0m        \u001b[0ms1\u001b[0m\u001b[1;33m=\u001b[0m\u001b[1;36m12\u001b[0m\u001b[1;33m-\u001b[0m\u001b[0mm1\u001b[0m\u001b[1;33m\u001b[0m\u001b[1;33m\u001b[0m\u001b[0m\n",
      "\u001b[1;31mNameError\u001b[0m: name 'NoofDaysbetween' is not defined"
     ]
    }
   ],
   "source": [
    "\n",
    "#Function to calculate average of all factorials in a given a range\n",
    "def NoofHoursbetween(m1,y1,m2,y2):\n",
    "   s1=0\n",
    "   s2=0\n",
    "   h=NoofDaysbetween(y1+1,y2)*24\n",
    "   if(isLeapYear(y1) and m1<=2):\n",
    "       s1=12-m1\n",
    "       h=h+s1+1\n",
    "   else:\n",
    "       s1=12-m1\n",
    "       h=h+s1\n",
    "   if(isLeapYear(y2) and m2<=2):\n",
    "       s2=12-m2\n",
    "       h=h+s2+1\n",
    "   else:\n",
    "       s2=12-m2\n",
    "       h=h+s2\n",
    "   return h\n",
    "NoofHoursbetween(11,1975,3,1999)\n"
   ]
  },
  {
   "cell_type": "code",
   "execution_count": 4,
   "metadata": {},
   "outputs": [
    {
     "ename": "NameError",
     "evalue": "name 'n' is not defined",
     "output_type": "error",
     "traceback": [
      "\u001b[1;31m---------------------------------------------------------------------------\u001b[0m",
      "\u001b[1;31mNameError\u001b[0m                                 Traceback (most recent call last)",
      "\u001b[1;32m<ipython-input-4-a2239aa6207b>\u001b[0m in \u001b[0;36m<module>\u001b[1;34m\u001b[0m\n\u001b[0;32m      1\u001b[0m \u001b[1;31m#Function to generate N odd armstrong numbers\u001b[0m\u001b[1;33m\u001b[0m\u001b[1;33m\u001b[0m\u001b[1;33m\u001b[0m\u001b[0m\n\u001b[1;32m----> 2\u001b[1;33m \u001b[0mrange\u001b[0m\u001b[1;33m(\u001b[0m\u001b[0mn\u001b[0m\u001b[1;33m,\u001b[0m\u001b[0mlb\u001b[0m\u001b[1;33m,\u001b[0m\u001b[0mub\u001b[0m\u001b[1;33m)\u001b[0m\u001b[1;33m\u001b[0m\u001b[1;33m\u001b[0m\u001b[0m\n\u001b[0m\u001b[0;32m      3\u001b[0m \u001b[1;32mdef\u001b[0m \u001b[0mmultable\u001b[0m\u001b[1;33m(\u001b[0m\u001b[0mn\u001b[0m\u001b[1;33m,\u001b[0m\u001b[0mlb\u001b[0m\u001b[1;33m,\u001b[0m\u001b[0mub\u001b[0m\u001b[1;33m)\u001b[0m\u001b[1;33m:\u001b[0m\u001b[1;33m\u001b[0m\u001b[1;33m\u001b[0m\u001b[0m\n\u001b[0;32m      4\u001b[0m    \u001b[1;32mfor\u001b[0m \u001b[0mi\u001b[0m \u001b[1;32min\u001b[0m \u001b[0mrange\u001b[0m\u001b[1;33m(\u001b[0m\u001b[0mlb\u001b[0m\u001b[1;33m,\u001b[0m\u001b[0mub\u001b[0m\u001b[1;33m+\u001b[0m\u001b[1;36m1\u001b[0m\u001b[1;33m)\u001b[0m\u001b[1;33m:\u001b[0m\u001b[1;33m\u001b[0m\u001b[1;33m\u001b[0m\u001b[0m\n\u001b[0;32m      5\u001b[0m        \u001b[0mprint\u001b[0m\u001b[1;33m(\u001b[0m\u001b[0mn\u001b[0m\u001b[1;33m,\u001b[0m\u001b[1;34m\" *\"\u001b[0m\u001b[1;33m,\u001b[0m\u001b[0mi\u001b[0m\u001b[1;33m,\u001b[0m\u001b[1;34m\" = \"\u001b[0m\u001b[1;33m,\u001b[0m\u001b[0mn\u001b[0m\u001b[1;33m*\u001b[0m\u001b[0mi\u001b[0m\u001b[1;33m)\u001b[0m\u001b[1;33m\u001b[0m\u001b[1;33m\u001b[0m\u001b[0m\n",
      "\u001b[1;31mNameError\u001b[0m: name 'n' is not defined"
     ]
    }
   ],
   "source": [
    "#Function to generate N odd armstrong numbers \n"
   ]
  },
  {
   "cell_type": "code",
   "execution_count": 10,
   "metadata": {},
   "outputs": [
    {
     "name": "stdout",
     "output_type": "stream",
     "text": [
      "100  * 10  =  1000\n",
      "100  * 11  =  1100\n",
      "100  * 12  =  1200\n",
      "100  * 13  =  1300\n",
      "100  * 14  =  1400\n",
      "100  * 15  =  1500\n"
     ]
    }
   ],
   "source": [
    "#Function to generate Multiplication table for a number in a given range\n",
    "#10 in the range(100, 102) inclusive\n",
    "#10 x 100 = 1000\n",
    "#10 x 101 = 1010\n",
    "#10 x 102 = 1020\n",
    "#range(n,lb,ub)\n",
    "def multable(n,lb,ub):\n",
    "    for i in range(lb,ub+1):\n",
    "        print(n,\" *\",i,\" = \",n*i)\n",
    "    return\n",
    "\n",
    "multable(100,10,15)"
   ]
  },
  {
   "cell_type": "code",
   "execution_count": 13,
   "metadata": {},
   "outputs": [
    {
     "data": {
      "text/plain": [
       "17.0"
      ]
     },
     "execution_count": 13,
     "metadata": {},
     "output_type": "execute_result"
    }
   ],
   "source": [
    "def fact(n):\n",
    "    f=1\n",
    "    for i in range(1,n+1):\n",
    "        f=f*i\n",
    "    return f\n",
    "\n",
    "def avgfact(lb,ub):\n",
    "    s=0\n",
    "    for i in range(lb,ub+1):\n",
    "        s=s+fact(i)\n",
    "    return s/(ub-lb)+1\n",
    "avgfact(2,4)"
   ]
  },
  {
   "cell_type": "code",
   "execution_count": 6,
   "metadata": {},
   "outputs": [
    {
     "name": "stdout",
     "output_type": "stream",
     "text": [
      "3\n",
      "5\n"
     ]
    }
   ],
   "source": [
    "# generate n odd amstrong numbers\n",
    "def noddamstrong(lb,ub):\n",
    "    for i in range(lb,ub+1):\n",
    "        len1=len(str(i))\n",
    "        j=i\n",
    "        s=0\n",
    "        while(j!=0):\n",
    "            r=j%10\n",
    "            s=s+r**len1\n",
    "            j=j//10\n",
    "        if(s==i and i%2==1):\n",
    "            print(i)\n",
    "    return\n",
    "noddamstrong(2,5)"
   ]
  },
  {
   "cell_type": "code",
   "execution_count": 7,
   "metadata": {},
   "outputs": [
    {
     "data": {
      "text/plain": [
       "17.0"
      ]
     },
     "execution_count": 7,
     "metadata": {},
     "output_type": "execute_result"
    }
   ],
   "source": [
    "#generate avg of factorials in given range\n",
    "def fact(n):\n",
    "    f=1\n",
    "    for i in range(1,n+1):\n",
    "        f=f*i\n",
    "    return f\n",
    "\n",
    "def avgfact(lb,ub):\n",
    "    s=0\n",
    "    for i in range(lb,ub+1):\n",
    "        s=s+fact(i)\n",
    "    return s/(ub-lb)+1\n",
    "avgfact(2,4)"
   ]
  },
  {
   "cell_type": "code",
   "execution_count": 8,
   "metadata": {},
   "outputs": [
    {
     "name": "stdout",
     "output_type": "stream",
     "text": [
      "100  * 10  =  1000\n",
      "100  * 11  =  1100\n",
      "100  * 12  =  1200\n",
      "100  * 13  =  1300\n",
      "100  * 14  =  1400\n",
      "100  * 15  =  1500\n"
     ]
    }
   ],
   "source": [
    "# multiplication table for given range(n,lb,ub)\n",
    "def multable(n,lb,ub):\n",
    "    for i in range(lb,ub+1):\n",
    "        print(n,\" *\",i,\" = \",n*i)\n",
    "    return\n",
    "\n",
    "multable(100,10,15)"
   ]
  },
  {
   "cell_type": "code",
   "execution_count": null,
   "metadata": {},
   "outputs": [],
   "source": []
  }
 ],
 "metadata": {
  "kernelspec": {
   "display_name": "Python 3",
   "language": "python",
   "name": "python3"
  },
  "language_info": {
   "codemirror_mode": {
    "name": "ipython",
    "version": 3
   },
   "file_extension": ".py",
   "mimetype": "text/x-python",
   "name": "python",
   "nbconvert_exporter": "python",
   "pygments_lexer": "ipython3",
   "version": "3.7.3"
  }
 },
 "nbformat": 4,
 "nbformat_minor": 2
}
